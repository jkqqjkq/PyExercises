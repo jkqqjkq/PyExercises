{
 "cells": [
  {
   "cell_type": "code",
   "execution_count": 2,
   "metadata": {
    "collapsed": true
   },
   "outputs": [],
   "source": [
    "import pandas as pd\n",
    "import tensorflow as tf\n",
    "import numpy as np\n",
    "from sklearn.preprocessing import OneHotEncoder\n",
    "from sklearn.preprocessing import MinMaxScaler\n",
    "from sklearn.preprocessing import StandardScaler\n",
    "import cv2\n",
    "TRAIN_PIC_PATH = '/Users/apple/Desktop/FatigueDetection/FACE_BAG/MultiPIE/train_image128x128/'\n",
    "TRAIN_LAB_PATH = TRAIN_PIC_PATH + 'Label.txt'\n",
    "TEST_PIC_PATH = '/Users/apple/Desktop/FatigueDetection/FACE_BAG/yalefaces_/'\n",
    "TEST_LAB_PATH = TEST_PIC_PATH + 'Label.txt'\n",
    "sess = tf.InteractiveSession()"
   ]
  },
  {
   "cell_type": "code",
   "execution_count": 3,
   "metadata": {
    "collapsed": true
   },
   "outputs": [],
   "source": [
    "def StandardImage(img): \n",
    "    img = cv2.equalizeHist(img)\n",
    "    img = cv2.GaussianBlur(img, (3, 3), 0, 0)\n",
    "    return img"
   ]
  },
  {
   "cell_type": "code",
   "execution_count": 94,
   "metadata": {},
   "outputs": [
    {
     "name": "stdout",
     "output_type": "stream",
     "text": [
      "790\n"
     ]
    }
   ],
   "source": [
    "with open(TRAIN_PIC_PATH + 'AwakeNum.txt','r') as file:\n",
    "    tmp = map(int,file.read().split())\n",
    "FatigueNum = []\n",
    "for i in range(1,2020):\n",
    "    if i in tmp:\n",
    "        continue\n",
    "    else :\n",
    "        FatigueNum.append(i)\n",
    "print len(FatigueNum)\n",
    "with open(TRAIN_PIC_PATH + 'FatigueNum.txt','w') as file:\n",
    "    for i in range(len(FatigueNum)):\n",
    "        file.write(str(FatigueNum[i])+' ')"
   ]
  },
  {
   "cell_type": "code",
   "execution_count": 97,
   "metadata": {},
   "outputs": [
    {
     "name": "stdout",
     "output_type": "stream",
     "text": [
      "1229\n",
      "[[ 0.]\n",
      " [ 0.]\n",
      " [ 1.]\n",
      " ..., \n",
      " [ 1.]\n",
      " [ 1.]\n",
      " [ 1.]]\n",
      "(176, 16384)\n"
     ]
    },
    {
     "ename": "ValueError",
     "evalue": "could not broadcast input array from shape (16129) into shape (16384)",
     "output_type": "error",
     "traceback": [
      "\u001b[0;31m---------------------------------------------------------------------------\u001b[0m",
      "\u001b[0;31mValueError\u001b[0m                                Traceback (most recent call last)",
      "\u001b[0;32m<ipython-input-97-5e069f699921>\u001b[0m in \u001b[0;36m<module>\u001b[0;34m()\u001b[0m\n\u001b[1;32m     44\u001b[0m     \u001b[0mimage\u001b[0m \u001b[0;34m=\u001b[0m \u001b[0mcv2\u001b[0m\u001b[0;34m.\u001b[0m\u001b[0mimread\u001b[0m\u001b[0;34m(\u001b[0m\u001b[0mTEST_PIC_PATH\u001b[0m\u001b[0;34m+\u001b[0m\u001b[0mstr\u001b[0m\u001b[0;34m(\u001b[0m\u001b[0mi\u001b[0m\u001b[0;34m+\u001b[0m\u001b[0;36m1\u001b[0m\u001b[0;34m)\u001b[0m\u001b[0;34m+\u001b[0m\u001b[0;34m'.jpg'\u001b[0m\u001b[0;34m,\u001b[0m\u001b[0;36m0\u001b[0m\u001b[0;34m)\u001b[0m\u001b[0;34m\u001b[0m\u001b[0m\n\u001b[1;32m     45\u001b[0m     \u001b[0mimage\u001b[0m \u001b[0;34m=\u001b[0m \u001b[0mStandardImage\u001b[0m\u001b[0;34m(\u001b[0m\u001b[0mimage\u001b[0m\u001b[0;34m)\u001b[0m\u001b[0;34m\u001b[0m\u001b[0m\n\u001b[0;32m---> 46\u001b[0;31m     \u001b[0mX_test\u001b[0m\u001b[0;34m[\u001b[0m\u001b[0mi\u001b[0m\u001b[0;34m]\u001b[0m \u001b[0;34m=\u001b[0m \u001b[0mimage\u001b[0m\u001b[0;34m.\u001b[0m\u001b[0mflatten\u001b[0m\u001b[0;34m(\u001b[0m\u001b[0;34m)\u001b[0m\u001b[0;34m\u001b[0m\u001b[0m\n\u001b[0m",
      "\u001b[0;31mValueError\u001b[0m: could not broadcast input array from shape (16129) into shape (16384)"
     ]
    }
   ],
   "source": [
    "X_train = np.zeros((2019,128*128))\n",
    "Y_train = np.zeros((2019,1))\n",
    "with open(TRAIN_PIC_PATH + 'FatigueNum.txt','r') as file:\n",
    "    FatigueNum = np.array(map(int,file.read().split()))\n",
    "with open(TRAIN_PIC_PATH + 'AwakeNum.txt','r') as file:\n",
    "    AwakeNum = np.array(map(int,file.read().split()))\n",
    "cnt_all = 0\n",
    "cnt_awake = 0\n",
    "cnt_tired = 0\n",
    "cnt_tmp = 0\n",
    "print AwakeNum.shape[0]\n",
    "for i in range(2020):\n",
    "        cnt_tmp = 0\n",
    "        if cnt_all == 2019:\n",
    "            break\n",
    "        for j in range(25):\n",
    "                if cnt_all < 2019:\n",
    "                    #print cnt_all\n",
    "                    if (j %5 ==0 or j%5 ==1) and cnt_tired < FatigueNum.shape[0]:\n",
    "                        img = cv2.imread(TRAIN_PIC_PATH + str(FatigueNum[cnt_tired])+'.jpg',0)\n",
    "                        img = StandardImage(img)\n",
    "                        Y_train[cnt_all] = 0\n",
    "                        X_train[cnt_all] = img.flatten()\n",
    "                        cnt_tired+=1\n",
    "                        cnt_all+=1 \n",
    "                        #print 'cnt_all %d cnt_tired %d' % (cnt_all,cnt_tired)\n",
    "                    elif cnt_awake < AwakeNum.shape[0] and cnt_tmp < 15:\n",
    "                        cnt_tmp += 1\n",
    "                       # print cnt_tmp\n",
    "                        img = cv2.imread(TRAIN_PIC_PATH + str(AwakeNum[cnt_awake])+'.jpg',0)\n",
    "                        img = StandardImage(img)\n",
    "                        Y_train[cnt_all] = 1\n",
    "                        X_train[cnt_all] = img.flatten()\n",
    "                        cnt_awake+= 1\n",
    "                        cnt_all += 1\n",
    "                        #print 'cnt_all %d cnt_awake %d' %(cnt_all,cnt_awake)\n",
    "#for i in range(Y_train.shape[0]):\n",
    "#    print Y_train[i]\n",
    "Y_train = OneHotEncoder().fit_transform(Y_train).todense()\n",
    "X_test = np.zeros((176,128*128))\n",
    "print X_test.shape\n",
    "for i in range(176):\n",
    "    image = cv2.imread(TEST_PIC_PATH+str(i+1)+'.jpg',0)\n",
    "    image = StandardImage(image)\n",
    "    X_test[i] = image.flatten()\n"
   ]
  },
  {
   "cell_type": "code",
   "execution_count": 28,
   "metadata": {
    "scrolled": true
   },
   "outputs": [
    {
     "name": "stdout",
     "output_type": "stream",
     "text": [
      "(837,)\n"
     ]
    }
   ],
   "source": [
    "X = np.loadtxt(TRAIN_PIC_PATH + 'FatigueNum_.txt')\n",
    "print X.shape"
   ]
  },
  {
   "cell_type": "code",
   "execution_count": 27,
   "metadata": {},
   "outputs": [
    {
     "name": "stdout",
     "output_type": "stream",
     "text": [
      "[[ 0.69314718  2.19722462]\n",
      " [ 2.19722462  4.15888309]]\n",
      "-2.31162\n",
      "[-2.8903718  -6.35610771]\n"
     ]
    }
   ],
   "source": [
    "a = tf.constant([[1.0,2.0],\n",
    "                [2.0,3.0]],name='a')\n",
    "b = tf.constant([[2.0,3.0],\n",
    "                [3.0,4.0]],name='b')\n",
    "print (a*tf.log(b)).eval()\n",
    "result = -tf.reduce_mean(a*tf.log(b))\n",
    "result1 =-tf.reduce_sum(a*tf.log(b),reduction_indices = [1])\n",
    "print result.eval()\n",
    "print result1.eval()"
   ]
  },
  {
   "cell_type": "code",
   "execution_count": null,
   "metadata": {
    "collapsed": true
   },
   "outputs": [],
   "source": []
  },
  {
   "cell_type": "code",
   "execution_count": null,
   "metadata": {
    "collapsed": true
   },
   "outputs": [],
   "source": []
  }
 ],
 "metadata": {
  "kernelspec": {
   "display_name": "Python 2",
   "language": "python",
   "name": "python2"
  },
  "language_info": {
   "codemirror_mode": {
    "name": "ipython",
    "version": 2
   },
   "file_extension": ".py",
   "mimetype": "text/x-python",
   "name": "python",
   "nbconvert_exporter": "python",
   "pygments_lexer": "ipython2",
   "version": "2.7.10"
  }
 },
 "nbformat": 4,
 "nbformat_minor": 2
}
