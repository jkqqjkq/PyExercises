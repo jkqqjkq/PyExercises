{
 "cells": [
  {
   "cell_type": "code",
   "execution_count": 38,
   "metadata": {},
   "outputs": [],
   "source": [
    "import pandas as pd\n",
    "import tensorflow as tf\n",
    "import numpy as np\n",
    "from sklearn.preprocessing import OneHotEncoder\n",
    "from sklearn.preprocessing import MinMaxScaler\n",
    "from sklearn.preprocessing import StandardScaler\n",
    "import cv2\n",
    "TRAIN_PIC_PATH = '/Users/apple/Desktop/FatigueDetection/FACE_BAG/MultiPIE/train_image128x128/'\n",
    "TRAIN_LAB_PATH = TRAIN_PIC_PATH + 'Label.txt'\n",
    "TEST_PIC_PATH = '/Users/apple/Desktop/FatigueDetection/FACE_BAG/yalefaces_/'\n",
    "TEST_LAB_PATH = TEST_PIC_PATH + 'Label.txt'\n",
    "sess = tf.InteractiveSession()"
   ]
  },
  {
   "cell_type": "code",
   "execution_count": 41,
   "metadata": {
    "collapsed": true
   },
   "outputs": [],
   "source": [
    "def StandardImage(img): \n",
    "    img = cv2.equalizeHist(img)\n",
    "    img = cv2.GaussianBlur(img, (3, 3), 0, 0)\n",
    "    return img"
   ]
  },
  {
   "cell_type": "code",
   "execution_count": 42,
   "metadata": {},
   "outputs": [],
   "source": [
    "X_train = np.zeros((2019,128*128))\n",
    "for i in range(2019):\n",
    "    image = cv2.imread(TRAIN_PIC_PATH+str(i+1)+'.jpg',0)\n",
    "    image = StandardImage(image)\n",
    "    X_train[i] = image.flatten()\n",
    "Y_train = np.loadtxt(TRAIN_LAB_PATH).astype('int').reshape((-1,1))\n",
    "Y_train = OneHotEncoder().fit_transform(Y_train).todense()\n",
    "X_test = np.zeros((176,128*128))\n",
    "for i in range(176):\n",
    "    image = cv2.imread(TEST_PIC_PATH+str(i+1)+'.jpg',0)\n",
    "    image = StandardImage(image)\n",
    "    X_test[i] = image.flatten()\n"
   ]
  },
  {
   "cell_type": "code",
   "execution_count": 30,
   "metadata": {},
   "outputs": [
    {
     "data": {
      "text/plain": [
       "matrix([[ 0.,  1.],\n",
       "        [ 0.,  1.],\n",
       "        [ 0.,  1.],\n",
       "        ..., \n",
       "        [ 1.,  0.],\n",
       "        [ 1.,  0.],\n",
       "        [ 1.,  0.]])"
      ]
     },
     "execution_count": 30,
     "metadata": {},
     "output_type": "execute_result"
    }
   ],
   "source": []
  },
  {
   "cell_type": "code",
   "execution_count": null,
   "metadata": {},
   "outputs": [],
   "source": []
  },
  {
   "cell_type": "code",
   "execution_count": null,
   "metadata": {},
   "outputs": [],
   "source": []
  },
  {
   "cell_type": "code",
   "execution_count": null,
   "metadata": {
    "collapsed": true
   },
   "outputs": [],
   "source": []
  }
 ],
 "metadata": {
  "kernelspec": {
   "display_name": "Python 2",
   "language": "python",
   "name": "python2"
  },
  "language_info": {
   "codemirror_mode": {
    "name": "ipython",
    "version": 2
   },
   "file_extension": ".py",
   "mimetype": "text/x-python",
   "name": "python",
   "nbconvert_exporter": "python",
   "pygments_lexer": "ipython2",
   "version": "2.7.10"
  }
 },
 "nbformat": 4,
 "nbformat_minor": 2
}
