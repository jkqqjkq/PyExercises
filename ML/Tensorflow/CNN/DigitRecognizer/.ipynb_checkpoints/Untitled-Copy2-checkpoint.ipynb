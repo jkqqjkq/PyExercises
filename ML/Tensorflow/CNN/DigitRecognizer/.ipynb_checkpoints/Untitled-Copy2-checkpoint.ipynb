{
 "cells": [
  {
   "cell_type": "code",
   "execution_count": 58,
   "metadata": {},
   "outputs": [],
   "source": [
    "import pandas as pd\n",
    "import tensorflow as tf\n",
    "import numpy as np\n",
    "from sklearn.preprocessing import OneHotEncoder\n",
    "from sklearn.preprocessing import MinMaxScaler"
   ]
  },
  {
   "cell_type": "code",
   "execution_count": 2,
   "metadata": {
    "collapsed": true
   },
   "outputs": [],
   "source": [
    "sess = tf.InteractiveSession()\n",
    "train_path = '/Users/apple/Desktop/Kaggle/DigitRecognizer/train.csv'\n",
    "test_path = '/Users/apple/Desktop/Kaggle/DigitRecognizer/test.csv'\n",
    "train = pd.read_csv(train_path)\n",
    "test = pd.read_csv(test_path)"
   ]
  },
  {
   "cell_type": "code",
   "execution_count": 3,
   "metadata": {},
   "outputs": [
    {
     "data": {
      "text/plain": [
       "(42000, 785)"
      ]
     },
     "execution_count": 3,
     "metadata": {},
     "output_type": "execute_result"
    }
   ],
   "source": [
    "train.shape"
   ]
  },
  {
   "cell_type": "code",
   "execution_count": 4,
   "metadata": {},
   "outputs": [
    {
     "data": {
      "text/plain": [
       "(28000, 784)"
      ]
     },
     "execution_count": 4,
     "metadata": {},
     "output_type": "execute_result"
    }
   ],
   "source": [
    "test.shape"
   ]
  },
  {
   "cell_type": "code",
   "execution_count": 59,
   "metadata": {},
   "outputs": [
    {
     "name": "stderr",
     "output_type": "stream",
     "text": [
      "/Library/Python/2.7/site-packages/ipykernel_launcher.py:5: FutureWarning: reshape is deprecated and will raise in a subsequent release. Please use .values.reshape(...) instead\n",
      "  \"\"\"\n"
     ]
    }
   ],
   "source": [
    "scaler = MinMaxScaler()\n",
    "X_train = train.drop('label',1)\n",
    "X_train = scaler.fit_transform(X_train)\n",
    "Y_train = train['label'].astype(np.float32)\n",
    "Y_train = Y_train.reshape((-1,1))\n",
    "X_test = test\n",
    "Y_train = OneHotEncoder().fit_transform(Y_train).todense()"
   ]
  },
  {
   "cell_type": "code",
   "execution_count": 6,
   "metadata": {
    "collapsed": true
   },
   "outputs": [],
   "source": [
    "def weight_variable(shape):\n",
    "    initial = tf.truncated_normal(shape,stddev=0.1)\n",
    "    return tf.Variable(initial)"
   ]
  },
  {
   "cell_type": "code",
   "execution_count": 7,
   "metadata": {
    "collapsed": true
   },
   "outputs": [],
   "source": [
    "def bias_variable(shape):\n",
    "    initial = tf.constant(0.1,shape=shape)\n",
    "    return tf.Variable(initial)"
   ]
  },
  {
   "cell_type": "code",
   "execution_count": 8,
   "metadata": {
    "collapsed": true
   },
   "outputs": [],
   "source": [
    "def conv2d(x,W):\n",
    "    return tf.nn.conv2d(x, W, strides=[1,1,1,1], padding='SAME')"
   ]
  },
  {
   "cell_type": "code",
   "execution_count": 9,
   "metadata": {
    "collapsed": true
   },
   "outputs": [],
   "source": [
    "def max_pool_2x2(x):\n",
    "    return tf.nn.max_pool(x,ksize=[1,2,2,1],strides=[1,2,2,1],padding='SAME')"
   ]
  },
  {
   "cell_type": "code",
   "execution_count": 10,
   "metadata": {},
   "outputs": [
    {
     "data": {
      "text/plain": [
       "(28000, 784)"
      ]
     },
     "execution_count": 10,
     "metadata": {},
     "output_type": "execute_result"
    }
   ],
   "source": [
    "train.shape\n",
    "test.shape"
   ]
  },
  {
   "cell_type": "code",
   "execution_count": 47,
   "metadata": {},
   "outputs": [
    {
     "data": {
      "text/plain": [
       "(42000, 10)"
      ]
     },
     "execution_count": 47,
     "metadata": {},
     "output_type": "execute_result"
    }
   ],
   "source": [
    "Y_train.shape"
   ]
  },
  {
   "cell_type": "code",
   "execution_count": 12,
   "metadata": {},
   "outputs": [
    {
     "data": {
      "text/plain": [
       "(42000, 784)"
      ]
     },
     "execution_count": 12,
     "metadata": {},
     "output_type": "execute_result"
    }
   ],
   "source": [
    "X_train.shape"
   ]
  },
  {
   "cell_type": "code",
   "execution_count": 55,
   "metadata": {},
   "outputs": [
    {
     "data": {
      "text/plain": [
       "<tf.Tensor 'MaxPool_1:0' shape=(?, 7, 7, 64) dtype=float32>"
      ]
     },
     "execution_count": 55,
     "metadata": {},
     "output_type": "execute_result"
    }
   ],
   "source": [
    "h_pool2"
   ]
  },
  {
   "cell_type": "code",
   "execution_count": 14,
   "metadata": {
    "collapsed": true
   },
   "outputs": [],
   "source": [
    "x = tf.placeholder(tf.float32,[None,784])\n",
    "y = tf.placeholder(tf.float32,[None,10])\n",
    "x_image = tf.reshape(x,[-1,28,28,1])"
   ]
  },
  {
   "cell_type": "code",
   "execution_count": 15,
   "metadata": {
    "collapsed": true
   },
   "outputs": [],
   "source": [
    "W_conv1 = weight_variable([5,5,1,32])\n",
    "b_conv1 = bias_variable([32])\n",
    "h_conv1 = tf.nn.relu(conv2d(x_image,W_conv1) + b_conv1)\n",
    "h_pool1 = max_pool_2x2(h_conv1)"
   ]
  },
  {
   "cell_type": "code",
   "execution_count": 16,
   "metadata": {
    "collapsed": true
   },
   "outputs": [],
   "source": [
    "W_conv2 = weight_variable([5,5,32,64])\n",
    "b_conv2 = bias_variable([64])\n",
    "h_conv2 = tf.nn.relu(conv2d(h_pool1,W_conv2) + b_conv2)\n",
    "h_pool2 = max_pool_2x2(h_conv2)"
   ]
  },
  {
   "cell_type": "code",
   "execution_count": 17,
   "metadata": {
    "collapsed": true
   },
   "outputs": [],
   "source": [
    "W_fc1 = weight_variable([7*7*64,1024])\n",
    "b_fc1 = bias_variable([1024])\n",
    "h_pool2_flat = tf.reshape(h_pool2,[-1,7*7*64])\n",
    "h_fc1 = tf.nn.relu(tf.matmul(h_pool2_flat,W_fc1) + b_fc1)"
   ]
  },
  {
   "cell_type": "code",
   "execution_count": 18,
   "metadata": {
    "collapsed": true
   },
   "outputs": [],
   "source": [
    "keep_prob = tf.placeholder(tf.float32)\n",
    "h_fc1_drop = tf.nn.dropout(h_fc1,keep_prob)"
   ]
  },
  {
   "cell_type": "code",
   "execution_count": 19,
   "metadata": {
    "collapsed": true
   },
   "outputs": [],
   "source": [
    "W_fc2 = weight_variable([1024,10])\n",
    "b_fc2 = bias_variable([10])\n",
    "y_conv = tf.nn.softmax(tf.matmul(h_fc1_drop,W_fc2) + b_fc2)"
   ]
  },
  {
   "cell_type": "code",
   "execution_count": 20,
   "metadata": {
    "collapsed": true
   },
   "outputs": [],
   "source": [
    "cross_entropy = tf.reduce_mean(-tf.reduce_sum(y * tf.log(y_conv),reduction_indices=[1]))\n",
    "train_step = tf.train.AdamOptimizer(1e-4).minimize(cross_entropy)"
   ]
  },
  {
   "cell_type": "raw",
   "metadata": {},
   "source": []
  },
  {
   "cell_type": "code",
   "execution_count": 21,
   "metadata": {
    "collapsed": true
   },
   "outputs": [],
   "source": [
    "correct_prediction = tf.equal(tf.argmax(y_conv,1),tf.argmax(y,1))\n",
    "accuracy = tf.reduce_mean(tf.cast(correct_prediction,tf.float32))"
   ]
  },
  {
   "cell_type": "code",
   "execution_count": 60,
   "metadata": {},
   "outputs": [
    {
     "data": {
      "text/plain": [
       "(42000, 784)"
      ]
     },
     "execution_count": 60,
     "metadata": {},
     "output_type": "execute_result"
    }
   ],
   "source": [
    "X_train.shape"
   ]
  },
  {
   "cell_type": "code",
   "execution_count": 23,
   "metadata": {},
   "outputs": [
    {
     "name": "stdout",
     "output_type": "stream",
     "text": [
      "(42000, 784)\n"
     ]
    }
   ],
   "source": [
    "print X_train.shape"
   ]
  },
  {
   "cell_type": "code",
   "execution_count": 29,
   "metadata": {
    "collapsed": true
   },
   "outputs": [],
   "source": [
    "def get_batch(X,Y,step,batch_size):\n",
    "    for i in range(step // batch_size):\n",
    "        batch_x = X[i*batch_size:i*batch_size + batch_size]\n",
    "        batch_y = Y[i*batch_size:i*batch_size + batch_size]\n",
    "        yield batch_x,batch_y,i"
   ]
  },
  {
   "cell_type": "code",
   "execution_count": 49,
   "metadata": {},
   "outputs": [
    {
     "data": {
      "text/plain": [
       "matrix([[ 0.,  1.,  0.,  0.,  0.,  0.,  0.,  0.,  0.,  0.],\n",
       "        [ 1.,  0.,  0.,  0.,  0.,  0.,  0.,  0.,  0.,  0.],\n",
       "        [ 0.,  1.,  0.,  0.,  0.,  0.,  0.,  0.,  0.,  0.],\n",
       "        [ 0.,  0.,  0.,  0.,  1.,  0.,  0.,  0.,  0.,  0.],\n",
       "        [ 1.,  0.,  0.,  0.,  0.,  0.,  0.,  0.,  0.,  0.],\n",
       "        [ 1.,  0.,  0.,  0.,  0.,  0.,  0.,  0.,  0.,  0.],\n",
       "        [ 0.,  0.,  0.,  0.,  0.,  0.,  0.,  1.,  0.,  0.],\n",
       "        [ 0.,  0.,  0.,  1.,  0.,  0.,  0.,  0.,  0.,  0.],\n",
       "        [ 0.,  0.,  0.,  0.,  0.,  1.,  0.,  0.,  0.,  0.],\n",
       "        [ 0.,  0.,  0.,  1.,  0.,  0.,  0.,  0.,  0.,  0.]])"
      ]
     },
     "execution_count": 49,
     "metadata": {},
     "output_type": "execute_result"
    }
   ],
   "source": [
    "Y_train[0:10]"
   ]
  },
  {
   "cell_type": "code",
   "execution_count": 61,
   "metadata": {},
   "outputs": [
    {
     "name": "stdout",
     "output_type": "stream",
     "text": [
      "(10, 784) (10, 10)\n",
      "step 0, trainging acc 0.1\n",
      "(10, 784) (10, 10)\n",
      "(10, 784) (10, 10)\n",
      "(10, 784) (10, 10)\n",
      "(10, 784) (10, 10)\n",
      "(10, 784) (10, 10)\n",
      "(10, 784) (10, 10)\n",
      "(10, 784) (10, 10)\n",
      "(10, 784) (10, 10)\n",
      "(10, 784) (10, 10)\n",
      "(10, 784) (10, 10)\n",
      "(10, 784) (10, 10)\n",
      "(10, 784) (10, 10)\n",
      "(10, 784) (10, 10)\n",
      "(10, 784) (10, 10)\n",
      "(10, 784) (10, 10)\n",
      "(10, 784) (10, 10)\n",
      "(10, 784) (10, 10)\n",
      "(10, 784) (10, 10)\n",
      "(10, 784) (10, 10)\n",
      "(10, 784) (10, 10)\n",
      "(10, 784) (10, 10)\n",
      "(10, 784) (10, 10)\n",
      "(10, 784) (10, 10)\n",
      "(10, 784) (10, 10)\n",
      "(10, 784) (10, 10)\n",
      "(10, 784) (10, 10)\n",
      "(10, 784) (10, 10)\n",
      "(10, 784) (10, 10)\n",
      "(10, 784) (10, 10)\n",
      "(10, 784) (10, 10)\n",
      "(10, 784) (10, 10)\n",
      "(10, 784) (10, 10)\n",
      "(10, 784) (10, 10)\n",
      "(10, 784) (10, 10)\n",
      "(10, 784) (10, 10)\n",
      "(10, 784) (10, 10)\n",
      "(10, 784) (10, 10)\n",
      "(10, 784) (10, 10)\n",
      "(10, 784) (10, 10)\n",
      "(10, 784) (10, 10)\n",
      "(10, 784) (10, 10)\n",
      "(10, 784) (10, 10)\n",
      "(10, 784) (10, 10)\n",
      "(10, 784) (10, 10)\n",
      "(10, 784) (10, 10)\n",
      "(10, 784) (10, 10)\n",
      "(10, 784) (10, 10)\n",
      "(10, 784) (10, 10)\n",
      "(10, 784) (10, 10)\n",
      "(10, 784) (10, 10)\n",
      "step 50, trainging acc 0.3\n",
      "(10, 784) (10, 10)\n",
      "(10, 784) (10, 10)\n",
      "(10, 784) (10, 10)\n",
      "(10, 784) (10, 10)\n",
      "(10, 784) (10, 10)\n",
      "(10, 784) (10, 10)\n",
      "(10, 784) (10, 10)\n",
      "(10, 784) (10, 10)\n",
      "(10, 784) (10, 10)\n",
      "(10, 784) (10, 10)\n",
      "(10, 784) (10, 10)\n",
      "(10, 784) (10, 10)\n",
      "(10, 784) (10, 10)\n",
      "(10, 784) (10, 10)\n",
      "(10, 784) (10, 10)\n",
      "(10, 784) (10, 10)\n",
      "(10, 784) (10, 10)\n",
      "(10, 784) (10, 10)\n",
      "(10, 784) (10, 10)\n",
      "(10, 784) (10, 10)\n",
      "(10, 784) (10, 10)\n",
      "(10, 784) (10, 10)\n",
      "(10, 784) (10, 10)\n",
      "(10, 784) (10, 10)\n",
      "(10, 784) (10, 10)\n",
      "(10, 784) (10, 10)\n",
      "(10, 784) (10, 10)\n",
      "(10, 784) (10, 10)\n",
      "(10, 784) (10, 10)\n",
      "(10, 784) (10, 10)\n",
      "(10, 784) (10, 10)\n",
      "(10, 784) (10, 10)\n",
      "(10, 784) (10, 10)\n",
      "(10, 784) (10, 10)\n",
      "(10, 784) (10, 10)\n",
      "(10, 784) (10, 10)\n",
      "(10, 784) (10, 10)\n",
      "(10, 784) (10, 10)\n",
      "(10, 784) (10, 10)\n",
      "(10, 784) (10, 10)\n",
      "(10, 784) (10, 10)\n",
      "(10, 784) (10, 10)\n",
      "(10, 784) (10, 10)\n",
      "(10, 784) (10, 10)\n",
      "(10, 784) (10, 10)\n",
      "(10, 784) (10, 10)\n",
      "(10, 784) (10, 10)\n",
      "(10, 784) (10, 10)\n",
      "(10, 784) (10, 10)\n",
      "(10, 784) (10, 10)\n",
      "step 100, trainging acc 0.8\n",
      "(10, 784) (10, 10)\n",
      "(10, 784) (10, 10)\n",
      "(10, 784) (10, 10)\n",
      "(10, 784) (10, 10)\n",
      "(10, 784) (10, 10)\n",
      "(10, 784) (10, 10)\n",
      "(10, 784) (10, 10)\n",
      "(10, 784) (10, 10)\n",
      "(10, 784) (10, 10)\n",
      "(10, 784) (10, 10)\n",
      "(10, 784) (10, 10)\n",
      "(10, 784) (10, 10)\n",
      "(10, 784) (10, 10)\n",
      "(10, 784) (10, 10)\n",
      "(10, 784) (10, 10)\n",
      "(10, 784) (10, 10)\n",
      "(10, 784) (10, 10)\n",
      "(10, 784) (10, 10)\n",
      "(10, 784) (10, 10)\n",
      "(10, 784) (10, 10)\n",
      "(10, 784) (10, 10)\n",
      "(10, 784) (10, 10)\n",
      "(10, 784) (10, 10)\n",
      "(10, 784) (10, 10)\n",
      "(10, 784) (10, 10)\n",
      "(10, 784) (10, 10)\n",
      "(10, 784) (10, 10)\n",
      "(10, 784) (10, 10)\n",
      "(10, 784) (10, 10)\n",
      "(10, 784) (10, 10)\n",
      "(10, 784) (10, 10)\n",
      "(10, 784) (10, 10)\n",
      "(10, 784) (10, 10)\n",
      "(10, 784) (10, 10)\n",
      "(10, 784) (10, 10)\n",
      "(10, 784) (10, 10)\n",
      "(10, 784) (10, 10)\n",
      "(10, 784) (10, 10)\n",
      "(10, 784) (10, 10)\n",
      "(10, 784) (10, 10)\n",
      "(10, 784) (10, 10)\n",
      "(10, 784) (10, 10)\n",
      "(10, 784) (10, 10)\n",
      "(10, 784) (10, 10)\n",
      "(10, 784) (10, 10)\n",
      "(10, 784) (10, 10)\n",
      "(10, 784) (10, 10)\n",
      "(10, 784) (10, 10)\n",
      "(10, 784) (10, 10)\n",
      "(10, 784) (10, 10)\n",
      "step 150, trainging acc 0.8\n",
      "(10, 784) (10, 10)\n",
      "(10, 784) (10, 10)\n",
      "(10, 784) (10, 10)\n",
      "(10, 784) (10, 10)\n",
      "(10, 784) (10, 10)\n",
      "(10, 784) (10, 10)\n",
      "(10, 784) (10, 10)\n",
      "(10, 784) (10, 10)\n",
      "(10, 784) (10, 10)\n",
      "(10, 784) (10, 10)\n",
      "(10, 784) (10, 10)\n",
      "(10, 784) (10, 10)\n",
      "(10, 784) (10, 10)\n",
      "(10, 784) (10, 10)\n",
      "(10, 784) (10, 10)\n",
      "(10, 784) (10, 10)\n",
      "(10, 784) (10, 10)\n",
      "(10, 784) (10, 10)\n",
      "(10, 784) (10, 10)\n",
      "(10, 784) (10, 10)\n",
      "(10, 784) (10, 10)\n",
      "(10, 784) (10, 10)\n",
      "(10, 784) (10, 10)\n",
      "(10, 784) (10, 10)\n",
      "(10, 784) (10, 10)\n",
      "(10, 784) (10, 10)\n",
      "(10, 784) (10, 10)\n",
      "(10, 784) (10, 10)\n",
      "(10, 784) (10, 10)\n",
      "(10, 784) (10, 10)\n",
      "(10, 784) (10, 10)\n",
      "(10, 784) (10, 10)\n",
      "(10, 784) (10, 10)\n",
      "(10, 784) (10, 10)\n",
      "(10, 784) (10, 10)\n",
      "(10, 784) (10, 10)\n",
      "(10, 784) (10, 10)\n",
      "(10, 784) (10, 10)\n",
      "(10, 784) (10, 10)\n",
      "(10, 784) (10, 10)\n",
      "(10, 784) (10, 10)\n",
      "(10, 784) (10, 10)\n",
      "(10, 784) (10, 10)\n",
      "(10, 784) (10, 10)\n",
      "(10, 784) (10, 10)\n",
      "(10, 784) (10, 10)\n",
      "(10, 784) (10, 10)\n",
      "(10, 784) (10, 10)\n",
      "(10, 784) (10, 10)\n",
      "(10, 784) (10, 10)\n",
      "step 200, trainging acc 0.9\n",
      "(10, 784) (10, 10)\n",
      "(10, 784) (10, 10)\n",
      "(10, 784) (10, 10)\n",
      "(10, 784) (10, 10)\n",
      "(10, 784) (10, 10)\n",
      "(10, 784) (10, 10)\n",
      "(10, 784) (10, 10)\n",
      "(10, 784) (10, 10)\n",
      "(10, 784) (10, 10)\n",
      "(10, 784) (10, 10)\n",
      "(10, 784) (10, 10)\n",
      "(10, 784) (10, 10)\n",
      "(10, 784) (10, 10)\n",
      "(10, 784) (10, 10)\n",
      "(10, 784) (10, 10)\n",
      "(10, 784) (10, 10)\n",
      "(10, 784) (10, 10)\n",
      "(10, 784) (10, 10)\n",
      "(10, 784) (10, 10)\n",
      "(10, 784) (10, 10)\n",
      "(10, 784) (10, 10)\n",
      "(10, 784) (10, 10)\n",
      "(10, 784) (10, 10)\n",
      "(10, 784) (10, 10)\n",
      "(10, 784) (10, 10)\n",
      "(10, 784) (10, 10)\n",
      "(10, 784) (10, 10)\n",
      "(10, 784) (10, 10)\n",
      "(10, 784) (10, 10)\n",
      "(10, 784) (10, 10)\n",
      "(10, 784) (10, 10)\n",
      "(10, 784) (10, 10)\n",
      "(10, 784) (10, 10)\n",
      "(10, 784) (10, 10)\n",
      "(10, 784) (10, 10)\n",
      "(10, 784) (10, 10)\n",
      "(10, 784) (10, 10)\n",
      "(10, 784) (10, 10)\n",
      "(10, 784) (10, 10)\n",
      "(10, 784) (10, 10)\n",
      "(10, 784) (10, 10)\n",
      "(10, 784) (10, 10)\n",
      "(10, 784) (10, 10)\n",
      "(10, 784) (10, 10)\n",
      "(10, 784) (10, 10)\n",
      "(10, 784) (10, 10)\n",
      "(10, 784) (10, 10)\n",
      "(10, 784) (10, 10)\n",
      "(10, 784) (10, 10)\n",
      "(10, 784) (10, 10)\n",
      "step 250, trainging acc 0.9\n",
      "(10, 784) (10, 10)\n",
      "(10, 784) (10, 10)\n",
      "(10, 784) (10, 10)\n",
      "(10, 784) (10, 10)\n",
      "(10, 784) (10, 10)\n",
      "(10, 784) (10, 10)\n",
      "(10, 784) (10, 10)\n",
      "(10, 784) (10, 10)\n",
      "(10, 784) (10, 10)\n",
      "(10, 784) (10, 10)\n",
      "(10, 784) (10, 10)\n",
      "(10, 784) (10, 10)\n",
      "(10, 784) (10, 10)\n",
      "(10, 784) (10, 10)\n",
      "(10, 784) (10, 10)\n",
      "(10, 784) (10, 10)\n",
      "(10, 784) (10, 10)\n",
      "(10, 784) (10, 10)\n",
      "(10, 784) (10, 10)\n",
      "(10, 784) (10, 10)\n",
      "(10, 784) (10, 10)\n",
      "(10, 784) (10, 10)\n",
      "(10, 784) (10, 10)\n",
      "(10, 784) (10, 10)\n",
      "(10, 784) (10, 10)\n",
      "(10, 784) (10, 10)\n",
      "(10, 784) (10, 10)\n",
      "(10, 784) (10, 10)\n",
      "(10, 784) (10, 10)\n",
      "(10, 784) (10, 10)\n",
      "(10, 784) (10, 10)\n",
      "(10, 784) (10, 10)\n",
      "(10, 784) (10, 10)\n",
      "(10, 784) (10, 10)\n",
      "(10, 784) (10, 10)\n",
      "(10, 784) (10, 10)\n",
      "(10, 784) (10, 10)\n",
      "(10, 784) (10, 10)\n",
      "(10, 784) (10, 10)\n",
      "(10, 784) (10, 10)\n",
      "(10, 784) (10, 10)\n",
      "(10, 784) (10, 10)\n",
      "(10, 784) (10, 10)\n",
      "(10, 784) (10, 10)\n",
      "(10, 784) (10, 10)\n",
      "(10, 784) (10, 10)\n",
      "(10, 784) (10, 10)\n",
      "(10, 784) (10, 10)\n",
      "(10, 784) (10, 10)\n",
      "(10, 784) (10, 10)\n",
      "step 300, trainging acc 0.8\n",
      "(10, 784) (10, 10)\n",
      "(10, 784) (10, 10)\n",
      "(10, 784) (10, 10)\n",
      "(10, 784) (10, 10)\n",
      "(10, 784) (10, 10)\n",
      "(10, 784) (10, 10)\n",
      "(10, 784) (10, 10)\n",
      "(10, 784) (10, 10)\n",
      "(10, 784) (10, 10)\n",
      "(10, 784) (10, 10)\n",
      "(10, 784) (10, 10)\n",
      "(10, 784) (10, 10)\n",
      "(10, 784) (10, 10)\n",
      "(10, 784) (10, 10)\n",
      "(10, 784) (10, 10)\n",
      "(10, 784) (10, 10)\n",
      "(10, 784) (10, 10)\n",
      "(10, 784) (10, 10)\n",
      "(10, 784) (10, 10)\n",
      "(10, 784) (10, 10)\n",
      "(10, 784) (10, 10)\n",
      "(10, 784) (10, 10)\n",
      "(10, 784) (10, 10)\n",
      "(10, 784) (10, 10)\n",
      "(10, 784) (10, 10)\n",
      "(10, 784) (10, 10)\n",
      "(10, 784) (10, 10)\n",
      "(10, 784) (10, 10)\n",
      "(10, 784) (10, 10)\n",
      "(10, 784) (10, 10)\n"
     ]
    },
    {
     "ename": "KeyboardInterrupt",
     "evalue": "",
     "output_type": "error",
     "traceback": [
      "\u001b[0;31m---------------------------------------------------------------------------\u001b[0m",
      "\u001b[0;31mKeyboardInterrupt\u001b[0m                         Traceback (most recent call last)",
      "\u001b[0;32m<ipython-input-61-bd7353d030f6>\u001b[0m in \u001b[0;36m<module>\u001b[0;34m()\u001b[0m\n\u001b[1;32m      2\u001b[0m \u001b[0;32mfor\u001b[0m \u001b[0mbx\u001b[0m\u001b[0;34m,\u001b[0m\u001b[0mby\u001b[0m\u001b[0;34m,\u001b[0m\u001b[0mi\u001b[0m \u001b[0;32min\u001b[0m \u001b[0mget_batch\u001b[0m\u001b[0;34m(\u001b[0m\u001b[0mX_train\u001b[0m\u001b[0;34m,\u001b[0m\u001b[0mY_train\u001b[0m\u001b[0;34m,\u001b[0m\u001b[0mY_train\u001b[0m\u001b[0;34m.\u001b[0m\u001b[0mshape\u001b[0m\u001b[0;34m[\u001b[0m\u001b[0;36m0\u001b[0m\u001b[0;34m]\u001b[0m\u001b[0;34m,\u001b[0m\u001b[0;36m10\u001b[0m\u001b[0;34m)\u001b[0m\u001b[0;34m:\u001b[0m\u001b[0;34m\u001b[0m\u001b[0m\n\u001b[1;32m      3\u001b[0m     \u001b[0;32mprint\u001b[0m \u001b[0mbx\u001b[0m\u001b[0;34m.\u001b[0m\u001b[0mshape\u001b[0m \u001b[0;34m,\u001b[0m\u001b[0mby\u001b[0m\u001b[0;34m.\u001b[0m\u001b[0mshape\u001b[0m\u001b[0;34m\u001b[0m\u001b[0m\n\u001b[0;32m----> 4\u001b[0;31m     \u001b[0mtrain_step\u001b[0m\u001b[0;34m.\u001b[0m\u001b[0mrun\u001b[0m\u001b[0;34m(\u001b[0m\u001b[0mfeed_dict\u001b[0m\u001b[0;34m=\u001b[0m\u001b[0;34m{\u001b[0m\u001b[0mx\u001b[0m\u001b[0;34m:\u001b[0m\u001b[0mbx\u001b[0m\u001b[0;34m,\u001b[0m\u001b[0my\u001b[0m\u001b[0;34m:\u001b[0m\u001b[0mby\u001b[0m\u001b[0;34m,\u001b[0m\u001b[0mkeep_prob\u001b[0m\u001b[0;34m:\u001b[0m\u001b[0;36m0.5\u001b[0m\u001b[0;34m}\u001b[0m\u001b[0;34m)\u001b[0m\u001b[0;34m\u001b[0m\u001b[0m\n\u001b[0m\u001b[1;32m      5\u001b[0m     \u001b[0;32mif\u001b[0m \u001b[0mi\u001b[0m \u001b[0;34m%\u001b[0m \u001b[0;36m50\u001b[0m \u001b[0;34m==\u001b[0m \u001b[0;36m0\u001b[0m\u001b[0;34m:\u001b[0m\u001b[0;34m\u001b[0m\u001b[0m\n\u001b[1;32m      6\u001b[0m         \u001b[0mtrain_acc\u001b[0m \u001b[0;34m=\u001b[0m \u001b[0maccuracy\u001b[0m\u001b[0;34m.\u001b[0m\u001b[0meval\u001b[0m\u001b[0;34m(\u001b[0m\u001b[0mfeed_dict\u001b[0m\u001b[0;34m=\u001b[0m\u001b[0;34m{\u001b[0m\u001b[0mx\u001b[0m\u001b[0;34m:\u001b[0m\u001b[0mbx\u001b[0m\u001b[0;34m,\u001b[0m\u001b[0my\u001b[0m\u001b[0;34m:\u001b[0m\u001b[0mby\u001b[0m\u001b[0;34m,\u001b[0m\u001b[0mkeep_prob\u001b[0m\u001b[0;34m:\u001b[0m\u001b[0;36m1.0\u001b[0m\u001b[0;34m}\u001b[0m\u001b[0;34m)\u001b[0m\u001b[0;34m\u001b[0m\u001b[0m\n",
      "\u001b[0;32m/Library/Python/2.7/site-packages/tensorflow/python/framework/ops.pyc\u001b[0m in \u001b[0;36mrun\u001b[0;34m(self, feed_dict, session)\u001b[0m\n\u001b[1;32m   1704\u001b[0m         \u001b[0mnone\u001b[0m\u001b[0;34m,\u001b[0m \u001b[0mthe\u001b[0m \u001b[0mdefault\u001b[0m \u001b[0msession\u001b[0m \u001b[0mwill\u001b[0m \u001b[0mbe\u001b[0m \u001b[0mused\u001b[0m\u001b[0;34m.\u001b[0m\u001b[0;34m\u001b[0m\u001b[0m\n\u001b[1;32m   1705\u001b[0m     \"\"\"\n\u001b[0;32m-> 1706\u001b[0;31m     \u001b[0m_run_using_default_session\u001b[0m\u001b[0;34m(\u001b[0m\u001b[0mself\u001b[0m\u001b[0;34m,\u001b[0m \u001b[0mfeed_dict\u001b[0m\u001b[0;34m,\u001b[0m \u001b[0mself\u001b[0m\u001b[0;34m.\u001b[0m\u001b[0mgraph\u001b[0m\u001b[0;34m,\u001b[0m \u001b[0msession\u001b[0m\u001b[0;34m)\u001b[0m\u001b[0;34m\u001b[0m\u001b[0m\n\u001b[0m\u001b[1;32m   1707\u001b[0m \u001b[0;34m\u001b[0m\u001b[0m\n\u001b[1;32m   1708\u001b[0m \u001b[0;34m\u001b[0m\u001b[0m\n",
      "\u001b[0;32m/Library/Python/2.7/site-packages/tensorflow/python/framework/ops.pyc\u001b[0m in \u001b[0;36m_run_using_default_session\u001b[0;34m(operation, feed_dict, graph, session)\u001b[0m\n\u001b[1;32m   3961\u001b[0m                        \u001b[0;34m\"the operation's graph is different from the session's \"\u001b[0m\u001b[0;34m\u001b[0m\u001b[0m\n\u001b[1;32m   3962\u001b[0m                        \"graph.\")\n\u001b[0;32m-> 3963\u001b[0;31m   \u001b[0msession\u001b[0m\u001b[0;34m.\u001b[0m\u001b[0mrun\u001b[0m\u001b[0;34m(\u001b[0m\u001b[0moperation\u001b[0m\u001b[0;34m,\u001b[0m \u001b[0mfeed_dict\u001b[0m\u001b[0;34m)\u001b[0m\u001b[0;34m\u001b[0m\u001b[0m\n\u001b[0m\u001b[1;32m   3964\u001b[0m \u001b[0;34m\u001b[0m\u001b[0m\n\u001b[1;32m   3965\u001b[0m \u001b[0;34m\u001b[0m\u001b[0m\n",
      "\u001b[0;32m/Library/Python/2.7/site-packages/tensorflow/python/client/session.pyc\u001b[0m in \u001b[0;36mrun\u001b[0;34m(self, fetches, feed_dict, options, run_metadata)\u001b[0m\n\u001b[1;32m    787\u001b[0m     \u001b[0;32mtry\u001b[0m\u001b[0;34m:\u001b[0m\u001b[0;34m\u001b[0m\u001b[0m\n\u001b[1;32m    788\u001b[0m       result = self._run(None, fetches, feed_dict, options_ptr,\n\u001b[0;32m--> 789\u001b[0;31m                          run_metadata_ptr)\n\u001b[0m\u001b[1;32m    790\u001b[0m       \u001b[0;32mif\u001b[0m \u001b[0mrun_metadata\u001b[0m\u001b[0;34m:\u001b[0m\u001b[0;34m\u001b[0m\u001b[0m\n\u001b[1;32m    791\u001b[0m         \u001b[0mproto_data\u001b[0m \u001b[0;34m=\u001b[0m \u001b[0mtf_session\u001b[0m\u001b[0;34m.\u001b[0m\u001b[0mTF_GetBuffer\u001b[0m\u001b[0;34m(\u001b[0m\u001b[0mrun_metadata_ptr\u001b[0m\u001b[0;34m)\u001b[0m\u001b[0;34m\u001b[0m\u001b[0m\n",
      "\u001b[0;32m/Library/Python/2.7/site-packages/tensorflow/python/client/session.pyc\u001b[0m in \u001b[0;36m_run\u001b[0;34m(self, handle, fetches, feed_dict, options, run_metadata)\u001b[0m\n\u001b[1;32m    995\u001b[0m     \u001b[0;32mif\u001b[0m \u001b[0mfinal_fetches\u001b[0m \u001b[0;32mor\u001b[0m \u001b[0mfinal_targets\u001b[0m\u001b[0;34m:\u001b[0m\u001b[0;34m\u001b[0m\u001b[0m\n\u001b[1;32m    996\u001b[0m       results = self._do_run(handle, final_targets, final_fetches,\n\u001b[0;32m--> 997\u001b[0;31m                              feed_dict_string, options, run_metadata)\n\u001b[0m\u001b[1;32m    998\u001b[0m     \u001b[0;32melse\u001b[0m\u001b[0;34m:\u001b[0m\u001b[0;34m\u001b[0m\u001b[0m\n\u001b[1;32m    999\u001b[0m       \u001b[0mresults\u001b[0m \u001b[0;34m=\u001b[0m \u001b[0;34m[\u001b[0m\u001b[0;34m]\u001b[0m\u001b[0;34m\u001b[0m\u001b[0m\n",
      "\u001b[0;32m/Library/Python/2.7/site-packages/tensorflow/python/client/session.pyc\u001b[0m in \u001b[0;36m_do_run\u001b[0;34m(self, handle, target_list, fetch_list, feed_dict, options, run_metadata)\u001b[0m\n\u001b[1;32m   1130\u001b[0m     \u001b[0;32mif\u001b[0m \u001b[0mhandle\u001b[0m \u001b[0;32mis\u001b[0m \u001b[0mNone\u001b[0m\u001b[0;34m:\u001b[0m\u001b[0;34m\u001b[0m\u001b[0m\n\u001b[1;32m   1131\u001b[0m       return self._do_call(_run_fn, self._session, feed_dict, fetch_list,\n\u001b[0;32m-> 1132\u001b[0;31m                            target_list, options, run_metadata)\n\u001b[0m\u001b[1;32m   1133\u001b[0m     \u001b[0;32melse\u001b[0m\u001b[0;34m:\u001b[0m\u001b[0;34m\u001b[0m\u001b[0m\n\u001b[1;32m   1134\u001b[0m       return self._do_call(_prun_fn, self._session, handle, feed_dict,\n",
      "\u001b[0;32m/Library/Python/2.7/site-packages/tensorflow/python/client/session.pyc\u001b[0m in \u001b[0;36m_do_call\u001b[0;34m(self, fn, *args)\u001b[0m\n\u001b[1;32m   1137\u001b[0m   \u001b[0;32mdef\u001b[0m \u001b[0m_do_call\u001b[0m\u001b[0;34m(\u001b[0m\u001b[0mself\u001b[0m\u001b[0;34m,\u001b[0m \u001b[0mfn\u001b[0m\u001b[0;34m,\u001b[0m \u001b[0;34m*\u001b[0m\u001b[0margs\u001b[0m\u001b[0;34m)\u001b[0m\u001b[0;34m:\u001b[0m\u001b[0;34m\u001b[0m\u001b[0m\n\u001b[1;32m   1138\u001b[0m     \u001b[0;32mtry\u001b[0m\u001b[0;34m:\u001b[0m\u001b[0;34m\u001b[0m\u001b[0m\n\u001b[0;32m-> 1139\u001b[0;31m       \u001b[0;32mreturn\u001b[0m \u001b[0mfn\u001b[0m\u001b[0;34m(\u001b[0m\u001b[0;34m*\u001b[0m\u001b[0margs\u001b[0m\u001b[0;34m)\u001b[0m\u001b[0;34m\u001b[0m\u001b[0m\n\u001b[0m\u001b[1;32m   1140\u001b[0m     \u001b[0;32mexcept\u001b[0m \u001b[0merrors\u001b[0m\u001b[0;34m.\u001b[0m\u001b[0mOpError\u001b[0m \u001b[0;32mas\u001b[0m \u001b[0me\u001b[0m\u001b[0;34m:\u001b[0m\u001b[0;34m\u001b[0m\u001b[0m\n\u001b[1;32m   1141\u001b[0m       \u001b[0mmessage\u001b[0m \u001b[0;34m=\u001b[0m \u001b[0mcompat\u001b[0m\u001b[0;34m.\u001b[0m\u001b[0mas_text\u001b[0m\u001b[0;34m(\u001b[0m\u001b[0me\u001b[0m\u001b[0;34m.\u001b[0m\u001b[0mmessage\u001b[0m\u001b[0;34m)\u001b[0m\u001b[0;34m\u001b[0m\u001b[0m\n",
      "\u001b[0;32m/Library/Python/2.7/site-packages/tensorflow/python/client/session.pyc\u001b[0m in \u001b[0;36m_run_fn\u001b[0;34m(session, feed_dict, fetch_list, target_list, options, run_metadata)\u001b[0m\n\u001b[1;32m   1119\u001b[0m         return tf_session.TF_Run(session, options,\n\u001b[1;32m   1120\u001b[0m                                  \u001b[0mfeed_dict\u001b[0m\u001b[0;34m,\u001b[0m \u001b[0mfetch_list\u001b[0m\u001b[0;34m,\u001b[0m \u001b[0mtarget_list\u001b[0m\u001b[0;34m,\u001b[0m\u001b[0;34m\u001b[0m\u001b[0m\n\u001b[0;32m-> 1121\u001b[0;31m                                  status, run_metadata)\n\u001b[0m\u001b[1;32m   1122\u001b[0m \u001b[0;34m\u001b[0m\u001b[0m\n\u001b[1;32m   1123\u001b[0m     \u001b[0;32mdef\u001b[0m \u001b[0m_prun_fn\u001b[0m\u001b[0;34m(\u001b[0m\u001b[0msession\u001b[0m\u001b[0;34m,\u001b[0m \u001b[0mhandle\u001b[0m\u001b[0;34m,\u001b[0m \u001b[0mfeed_dict\u001b[0m\u001b[0;34m,\u001b[0m \u001b[0mfetch_list\u001b[0m\u001b[0;34m)\u001b[0m\u001b[0;34m:\u001b[0m\u001b[0;34m\u001b[0m\u001b[0m\n",
      "\u001b[0;31mKeyboardInterrupt\u001b[0m: "
     ]
    }
   ],
   "source": [
    "tf.global_variables_initializer().run()\n",
    "for bx,by,i in get_batch(X_train,Y_train,Y_train.shape[0],10):\n",
    "    #print bx.shape ,by.shape\n",
    "    train_step.run(feed_dict={x:bx,y:by,keep_prob:0.5})\n",
    "    if i % 50 == 0:\n",
    "        train_acc = accuracy.eval(feed_dict={x:bx,y:by,keep_prob:1.0})\n",
    "        print 'step %d, trainging acc %g' %(i,train_acc)\n",
    "print accuracy.eval(feed_dict={x:X_train,y:Y_train,keep_prob:0.5})\n",
    "    #train_step.run(feed_dict={x:batch_X,y:batch_Y,keep_prob:0.5})"
   ]
  },
  {
   "cell_type": "code",
   "execution_count": null,
   "metadata": {
    "collapsed": true
   },
   "outputs": [],
   "source": []
  },
  {
   "cell_type": "code",
   "execution_count": null,
   "metadata": {
    "collapsed": true
   },
   "outputs": [],
   "source": []
  },
  {
   "cell_type": "code",
   "execution_count": null,
   "metadata": {
    "collapsed": true
   },
   "outputs": [],
   "source": []
  }
 ],
 "metadata": {
  "kernelspec": {
   "display_name": "Python 2",
   "language": "python",
   "name": "python2"
  },
  "language_info": {
   "codemirror_mode": {
    "name": "ipython",
    "version": 2
   },
   "file_extension": ".py",
   "mimetype": "text/x-python",
   "name": "python",
   "nbconvert_exporter": "python",
   "pygments_lexer": "ipython2",
   "version": "2.7.10"
  }
 },
 "nbformat": 4,
 "nbformat_minor": 1
}
